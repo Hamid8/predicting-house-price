{
 "cells": [
  {
   "cell_type": "code",
   "execution_count": 1,
   "metadata": {},
   "outputs": [],
   "source": [
    "import requests\n",
    "import lxml.html\n",
    "import pandas as pd\n",
    "from bs4 import BeautifulSoup\n",
    "import numpy as np\n",
    "import seaborn as sns\n",
    "from matplotlib import pyplot as plt\n",
    "response = requests.get('https://www.rockethomes.com/mi/ann-arbor')\n",
    "soup = BeautifulSoup(response.text, 'lxml')"
   ]
  },
  {
   "cell_type": "markdown",
   "metadata": {},
   "source": [
    "Web scraping"
   ]
  },
  {
   "cell_type": "code",
   "execution_count": 2,
   "metadata": {},
   "outputs": [],
   "source": [
    "def city_list():\n",
    "    link9=[]\n",
    "    link10=[]\n",
    "    link11=[]\n",
    "    link12=[]\n",
    "    link13=[]\n",
    "    for itemText in soup.find_all('div', class_=\"col-xs-12 positionRelative\"):\n",
    "         uTags = itemText.find_all('a')  \n",
    "         for tag in soup.find_all('div', class_=\"h4\"):\n",
    "            link9.append(tag.text)\n",
    "    for itemText in soup.find_all('div', class_=\"col-xs-12 positionRelative\"):\n",
    "         uTags = itemText.find_all('a')  \n",
    "         for tag in soup.find_all('div', class_=\"p1 lh18 marginT8\"):\n",
    "            link10.append(tag.text)        \n",
    "    for itemText in soup.find_all('div', class_=\"col-xs-12 positionRelative\"):\n",
    "         uTags = itemText.find_all('a')  \n",
    "         for tag in soup.find_all('div', class_=\"p2 lh18 textRight\"):\n",
    "            link11.append(tag.text)          \n",
    "    for itemText in soup.find_all('div', class_=\"col-xs-12 positionRelative\"):\n",
    "         uTags = itemText.find_all('a')  \n",
    "         for tag in soup.find_all('div', class_=\"positionAbsolute left0 right0 bottom0 pointerNone p4 lh20 colorWhite paddingY8 paddingX16\"):\n",
    "            link12.append(tag.text)        \n",
    "    for itemText in soup.find_all('div', class_=\"col-xs-12 positionRelative\"):\n",
    "         uTags = itemText.find_all('a')  \n",
    "         for tag in soup.find_all('div', class_=\"p2 textRight lh32 colorObsidian marginB8\"):\n",
    "            link13.append(tag.text)       \n",
    "    return link9,link10,link11,link12,link13       \n",
    "\n",
    "link9,link10,link11,link12,link13 = city_list()\n"
   ]
  },
  {
   "cell_type": "markdown",
   "metadata": {},
   "source": [
    "Speliting bad and beth in two seperate string like 2bed•3baths into 2bed and 3baths\n",
    "creating housing datafrme\n",
    " "
   ]
  },
  {
   "cell_type": "code",
   "execution_count": 3,
   "metadata": {
    "scrolled": false
   },
   "outputs": [
    {
     "data": {
      "text/html": [
       "<div>\n",
       "<style scoped>\n",
       "    .dataframe tbody tr th:only-of-type {\n",
       "        vertical-align: middle;\n",
       "    }\n",
       "\n",
       "    .dataframe tbody tr th {\n",
       "        vertical-align: top;\n",
       "    }\n",
       "\n",
       "    .dataframe thead th {\n",
       "        text-align: right;\n",
       "    }\n",
       "</style>\n",
       "<table border=\"1\" class=\"dataframe\">\n",
       "  <thead>\n",
       "    <tr style=\"text-align: right;\">\n",
       "      <th></th>\n",
       "      <th>price</th>\n",
       "      <th>Morgae_rate</th>\n",
       "      <th>size</th>\n",
       "      <th>addresss</th>\n",
       "      <th>bed</th>\n",
       "      <th>bath</th>\n",
       "      <th>zip_code</th>\n",
       "    </tr>\n",
       "  </thead>\n",
       "  <tbody>\n",
       "    <tr>\n",
       "      <th>0</th>\n",
       "      <td>625.000</td>\n",
       "      <td>$2,200/mo.</td>\n",
       "      <td>2.487</td>\n",
       "      <td>825 Watershed Dr, Ann Arbor, MI 48105</td>\n",
       "      <td>3</td>\n",
       "      <td>3</td>\n",
       "      <td>48105</td>\n",
       "    </tr>\n",
       "    <tr>\n",
       "      <th>1</th>\n",
       "      <td>379.000</td>\n",
       "      <td>$1,300/mo.</td>\n",
       "      <td>1.750</td>\n",
       "      <td>1827 Pontiac Trl, Ann Arbor, MI 48105</td>\n",
       "      <td>3</td>\n",
       "      <td>3</td>\n",
       "      <td>48105</td>\n",
       "    </tr>\n",
       "    <tr>\n",
       "      <th>2</th>\n",
       "      <td>269.900</td>\n",
       "      <td>$950/mo.</td>\n",
       "      <td>1.450</td>\n",
       "      <td>532 Liberty Pointe Dr, Ann Arbor, MI 48103</td>\n",
       "      <td>3</td>\n",
       "      <td>3</td>\n",
       "      <td>48103</td>\n",
       "    </tr>\n",
       "    <tr>\n",
       "      <th>3</th>\n",
       "      <td>304.900</td>\n",
       "      <td>$1,050/mo.</td>\n",
       "      <td>1.768</td>\n",
       "      <td>210 W Oakbrook Dr, Ann Arbor, MI 48103</td>\n",
       "      <td>3</td>\n",
       "      <td>3</td>\n",
       "      <td>48103</td>\n",
       "    </tr>\n",
       "    <tr>\n",
       "      <th>4</th>\n",
       "      <td>395.000</td>\n",
       "      <td>$1,400/mo.</td>\n",
       "      <td>1.593</td>\n",
       "      <td>2506 W Liberty, Ann Arbor, MI 48103</td>\n",
       "      <td>2</td>\n",
       "      <td>2</td>\n",
       "      <td>48103</td>\n",
       "    </tr>\n",
       "    <tr>\n",
       "      <th>5</th>\n",
       "      <td>250.000</td>\n",
       "      <td>$850/mo.</td>\n",
       "      <td>984</td>\n",
       "      <td>16 Revere Ct, Ann Arbor, MI 48104</td>\n",
       "      <td>3</td>\n",
       "      <td>3</td>\n",
       "      <td>48104</td>\n",
       "    </tr>\n",
       "    <tr>\n",
       "      <th>6</th>\n",
       "      <td>338.500</td>\n",
       "      <td>$1,200/mo.</td>\n",
       "      <td>1.508</td>\n",
       "      <td>2541 Meade Ct, Ann Arbor, MI 48105</td>\n",
       "      <td>3</td>\n",
       "      <td>3</td>\n",
       "      <td>48105</td>\n",
       "    </tr>\n",
       "    <tr>\n",
       "      <th>7</th>\n",
       "      <td>400.000</td>\n",
       "      <td>$1,400/mo.</td>\n",
       "      <td>1.515</td>\n",
       "      <td>216 Bucholz Ct, Ann Arbor, MI 48103</td>\n",
       "      <td>3</td>\n",
       "      <td>3</td>\n",
       "      <td>48103</td>\n",
       "    </tr>\n",
       "    <tr>\n",
       "      <th>8</th>\n",
       "      <td>290.000</td>\n",
       "      <td>$1,000/mo.</td>\n",
       "      <td>1.769</td>\n",
       "      <td>314 Hilldale Dr, Ann Arbor, MI 48105</td>\n",
       "      <td>3</td>\n",
       "      <td>3</td>\n",
       "      <td>48105</td>\n",
       "    </tr>\n",
       "    <tr>\n",
       "      <th>9</th>\n",
       "      <td>587.690</td>\n",
       "      <td>$2,050/mo.</td>\n",
       "      <td>3.106</td>\n",
       "      <td>3655 Bella Vista Dr, Ann Arbor, MI 48105</td>\n",
       "      <td>5</td>\n",
       "      <td>5</td>\n",
       "      <td>48105</td>\n",
       "    </tr>\n",
       "    <tr>\n",
       "      <th>10</th>\n",
       "      <td>509.140</td>\n",
       "      <td>$1,750/mo.</td>\n",
       "      <td>2.605</td>\n",
       "      <td>3765 Bella Vista Dr, Ann Arbor, MI 48105</td>\n",
       "      <td>4</td>\n",
       "      <td>4</td>\n",
       "      <td>48105</td>\n",
       "    </tr>\n",
       "    <tr>\n",
       "      <th>11</th>\n",
       "      <td>400.000</td>\n",
       "      <td>$1,400/mo.</td>\n",
       "      <td>1.802</td>\n",
       "      <td>682 Trego Cir, Ann Arbor, MI 48103</td>\n",
       "      <td>3</td>\n",
       "      <td>3</td>\n",
       "      <td>48103</td>\n",
       "    </tr>\n",
       "    <tr>\n",
       "      <th>12</th>\n",
       "      <td>299.000</td>\n",
       "      <td>$1,050/mo.</td>\n",
       "      <td>988</td>\n",
       "      <td>1460 Rosewood St, Ann Arbor, MI 48104</td>\n",
       "      <td>3</td>\n",
       "      <td>3</td>\n",
       "      <td>48104</td>\n",
       "    </tr>\n",
       "    <tr>\n",
       "      <th>13</th>\n",
       "      <td>242.000</td>\n",
       "      <td>$850/mo.</td>\n",
       "      <td>1.350</td>\n",
       "      <td>776 Greenhills Dr, Ann Arbor, MI 48105</td>\n",
       "      <td>2</td>\n",
       "      <td>2</td>\n",
       "      <td>48105</td>\n",
       "    </tr>\n",
       "    <tr>\n",
       "      <th>14</th>\n",
       "      <td>475.000</td>\n",
       "      <td>$1,650/mo.</td>\n",
       "      <td>2.176</td>\n",
       "      <td>2601 Brockman Blvd, Ann Arbor, MI 48104</td>\n",
       "      <td>4</td>\n",
       "      <td>4</td>\n",
       "      <td>48104</td>\n",
       "    </tr>\n",
       "    <tr>\n",
       "      <th>15</th>\n",
       "      <td>750.000</td>\n",
       "      <td>$2,600/mo.</td>\n",
       "      <td>3.072</td>\n",
       "      <td>3880 Penberton Dr, Ann Arbor, MI 48105</td>\n",
       "      <td>5</td>\n",
       "      <td>5</td>\n",
       "      <td>48105</td>\n",
       "    </tr>\n",
       "    <tr>\n",
       "      <th>16</th>\n",
       "      <td>295.000</td>\n",
       "      <td>$1,050/mo.</td>\n",
       "      <td>700</td>\n",
       "      <td>921 E Huron St, Ann Arbor, MI 48104</td>\n",
       "      <td>1</td>\n",
       "      <td>1</td>\n",
       "      <td>48104</td>\n",
       "    </tr>\n",
       "    <tr>\n",
       "      <th>17</th>\n",
       "      <td>229.900</td>\n",
       "      <td>$800/mo.</td>\n",
       "      <td>982</td>\n",
       "      <td>1795 Hideaway Lane Dr, Ann Arbor, MI 48105</td>\n",
       "      <td>2</td>\n",
       "      <td>2</td>\n",
       "      <td>48105</td>\n",
       "    </tr>\n",
       "    <tr>\n",
       "      <th>18</th>\n",
       "      <td>249.000</td>\n",
       "      <td>$850/mo.</td>\n",
       "      <td>1.516</td>\n",
       "      <td>749 Skynob Dr, Ann Arbor, MI 48105</td>\n",
       "      <td>3</td>\n",
       "      <td>3</td>\n",
       "      <td>48105</td>\n",
       "    </tr>\n",
       "    <tr>\n",
       "      <th>19</th>\n",
       "      <td>499.900</td>\n",
       "      <td>$1,750/mo.</td>\n",
       "      <td>1.874</td>\n",
       "      <td>2848 Ridington Dr, Ann Arbor, MI 48105</td>\n",
       "      <td>3</td>\n",
       "      <td>3</td>\n",
       "      <td>48105</td>\n",
       "    </tr>\n",
       "    <tr>\n",
       "      <th>20</th>\n",
       "      <td>699.000</td>\n",
       "      <td>$2,450/mo.</td>\n",
       "      <td>2.248</td>\n",
       "      <td>1206 Harbrooke Ave, Ann Arbor, MI 48103</td>\n",
       "      <td>4</td>\n",
       "      <td>4</td>\n",
       "      <td>48103</td>\n",
       "    </tr>\n",
       "    <tr>\n",
       "      <th>21</th>\n",
       "      <td>329.000</td>\n",
       "      <td>$1,150/mo.</td>\n",
       "      <td>1.878</td>\n",
       "      <td>3009 Turnberry Ln, Ann Arbor, MI 48108</td>\n",
       "      <td>3</td>\n",
       "      <td>3</td>\n",
       "      <td>48108</td>\n",
       "    </tr>\n",
       "    <tr>\n",
       "      <th>22</th>\n",
       "      <td>485.000</td>\n",
       "      <td>$1,700/mo.</td>\n",
       "      <td>1.817</td>\n",
       "      <td>1575 Woodland Dr, Ann Arbor, MI 48103</td>\n",
       "      <td>4</td>\n",
       "      <td>4</td>\n",
       "      <td>48103</td>\n",
       "    </tr>\n",
       "    <tr>\n",
       "      <th>23</th>\n",
       "      <td>168.000</td>\n",
       "      <td>$600/mo.</td>\n",
       "      <td>1.262</td>\n",
       "      <td>2152 Stone School Cir, Ann Arbor, MI 48108</td>\n",
       "      <td>3</td>\n",
       "      <td>3</td>\n",
       "      <td>48108</td>\n",
       "    </tr>\n",
       "    <tr>\n",
       "      <th>24</th>\n",
       "      <td>369.990</td>\n",
       "      <td>$1,300/mo.</td>\n",
       "      <td>1.102</td>\n",
       "      <td>1547 Kirtland Dr, Ann Arbor, MI 48103</td>\n",
       "      <td>3</td>\n",
       "      <td>3</td>\n",
       "      <td>48103</td>\n",
       "    </tr>\n",
       "    <tr>\n",
       "      <th>25</th>\n",
       "      <td>625.000</td>\n",
       "      <td>$2,200/mo.</td>\n",
       "      <td>2.487</td>\n",
       "      <td>825 Watershed Dr, Ann Arbor, MI 48105</td>\n",
       "      <td>3</td>\n",
       "      <td>3</td>\n",
       "      <td>48105</td>\n",
       "    </tr>\n",
       "    <tr>\n",
       "      <th>26</th>\n",
       "      <td>379.000</td>\n",
       "      <td>$1,300/mo.</td>\n",
       "      <td>1.750</td>\n",
       "      <td>1827 Pontiac Trl, Ann Arbor, MI 48105</td>\n",
       "      <td>3</td>\n",
       "      <td>3</td>\n",
       "      <td>48105</td>\n",
       "    </tr>\n",
       "    <tr>\n",
       "      <th>27</th>\n",
       "      <td>269.900</td>\n",
       "      <td>$950/mo.</td>\n",
       "      <td>1.450</td>\n",
       "      <td>532 Liberty Pointe Dr, Ann Arbor, MI 48103</td>\n",
       "      <td>3</td>\n",
       "      <td>3</td>\n",
       "      <td>48103</td>\n",
       "    </tr>\n",
       "    <tr>\n",
       "      <th>28</th>\n",
       "      <td>304.900</td>\n",
       "      <td>$1,050/mo.</td>\n",
       "      <td>1.768</td>\n",
       "      <td>210 W Oakbrook Dr, Ann Arbor, MI 48103</td>\n",
       "      <td>3</td>\n",
       "      <td>3</td>\n",
       "      <td>48103</td>\n",
       "    </tr>\n",
       "    <tr>\n",
       "      <th>29</th>\n",
       "      <td>395.000</td>\n",
       "      <td>$1,400/mo.</td>\n",
       "      <td>1.593</td>\n",
       "      <td>2506 W Liberty, Ann Arbor, MI 48103</td>\n",
       "      <td>2</td>\n",
       "      <td>2</td>\n",
       "      <td>48103</td>\n",
       "    </tr>\n",
       "    <tr>\n",
       "      <th>...</th>\n",
       "      <td>...</td>\n",
       "      <td>...</td>\n",
       "      <td>...</td>\n",
       "      <td>...</td>\n",
       "      <td>...</td>\n",
       "      <td>...</td>\n",
       "      <td>...</td>\n",
       "    </tr>\n",
       "    <tr>\n",
       "      <th>1245</th>\n",
       "      <td>699.000</td>\n",
       "      <td>$2,450/mo.</td>\n",
       "      <td>2.248</td>\n",
       "      <td>1206 Harbrooke Ave, Ann Arbor, MI 48103</td>\n",
       "      <td>4</td>\n",
       "      <td>4</td>\n",
       "      <td>48103</td>\n",
       "    </tr>\n",
       "    <tr>\n",
       "      <th>1246</th>\n",
       "      <td>329.000</td>\n",
       "      <td>$1,150/mo.</td>\n",
       "      <td>1.878</td>\n",
       "      <td>3009 Turnberry Ln, Ann Arbor, MI 48108</td>\n",
       "      <td>3</td>\n",
       "      <td>3</td>\n",
       "      <td>48108</td>\n",
       "    </tr>\n",
       "    <tr>\n",
       "      <th>1247</th>\n",
       "      <td>485.000</td>\n",
       "      <td>$1,700/mo.</td>\n",
       "      <td>1.817</td>\n",
       "      <td>1575 Woodland Dr, Ann Arbor, MI 48103</td>\n",
       "      <td>4</td>\n",
       "      <td>4</td>\n",
       "      <td>48103</td>\n",
       "    </tr>\n",
       "    <tr>\n",
       "      <th>1248</th>\n",
       "      <td>168.000</td>\n",
       "      <td>$600/mo.</td>\n",
       "      <td>1.262</td>\n",
       "      <td>2152 Stone School Cir, Ann Arbor, MI 48108</td>\n",
       "      <td>3</td>\n",
       "      <td>3</td>\n",
       "      <td>48108</td>\n",
       "    </tr>\n",
       "    <tr>\n",
       "      <th>1249</th>\n",
       "      <td>369.990</td>\n",
       "      <td>$1,300/mo.</td>\n",
       "      <td>1.102</td>\n",
       "      <td>1547 Kirtland Dr, Ann Arbor, MI 48103</td>\n",
       "      <td>3</td>\n",
       "      <td>3</td>\n",
       "      <td>48103</td>\n",
       "    </tr>\n",
       "    <tr>\n",
       "      <th>1250</th>\n",
       "      <td>625.000</td>\n",
       "      <td>$2,200/mo.</td>\n",
       "      <td>2.487</td>\n",
       "      <td>825 Watershed Dr, Ann Arbor, MI 48105</td>\n",
       "      <td>3</td>\n",
       "      <td>3</td>\n",
       "      <td>48105</td>\n",
       "    </tr>\n",
       "    <tr>\n",
       "      <th>1251</th>\n",
       "      <td>379.000</td>\n",
       "      <td>$1,300/mo.</td>\n",
       "      <td>1.750</td>\n",
       "      <td>1827 Pontiac Trl, Ann Arbor, MI 48105</td>\n",
       "      <td>3</td>\n",
       "      <td>3</td>\n",
       "      <td>48105</td>\n",
       "    </tr>\n",
       "    <tr>\n",
       "      <th>1252</th>\n",
       "      <td>269.900</td>\n",
       "      <td>$950/mo.</td>\n",
       "      <td>1.450</td>\n",
       "      <td>532 Liberty Pointe Dr, Ann Arbor, MI 48103</td>\n",
       "      <td>3</td>\n",
       "      <td>3</td>\n",
       "      <td>48103</td>\n",
       "    </tr>\n",
       "    <tr>\n",
       "      <th>1253</th>\n",
       "      <td>304.900</td>\n",
       "      <td>$1,050/mo.</td>\n",
       "      <td>1.768</td>\n",
       "      <td>210 W Oakbrook Dr, Ann Arbor, MI 48103</td>\n",
       "      <td>3</td>\n",
       "      <td>3</td>\n",
       "      <td>48103</td>\n",
       "    </tr>\n",
       "    <tr>\n",
       "      <th>1254</th>\n",
       "      <td>395.000</td>\n",
       "      <td>$1,400/mo.</td>\n",
       "      <td>1.593</td>\n",
       "      <td>2506 W Liberty, Ann Arbor, MI 48103</td>\n",
       "      <td>2</td>\n",
       "      <td>2</td>\n",
       "      <td>48103</td>\n",
       "    </tr>\n",
       "    <tr>\n",
       "      <th>1255</th>\n",
       "      <td>250.000</td>\n",
       "      <td>$850/mo.</td>\n",
       "      <td>984</td>\n",
       "      <td>16 Revere Ct, Ann Arbor, MI 48104</td>\n",
       "      <td>3</td>\n",
       "      <td>3</td>\n",
       "      <td>48104</td>\n",
       "    </tr>\n",
       "    <tr>\n",
       "      <th>1256</th>\n",
       "      <td>338.500</td>\n",
       "      <td>$1,200/mo.</td>\n",
       "      <td>1.508</td>\n",
       "      <td>2541 Meade Ct, Ann Arbor, MI 48105</td>\n",
       "      <td>3</td>\n",
       "      <td>3</td>\n",
       "      <td>48105</td>\n",
       "    </tr>\n",
       "    <tr>\n",
       "      <th>1257</th>\n",
       "      <td>400.000</td>\n",
       "      <td>$1,400/mo.</td>\n",
       "      <td>1.515</td>\n",
       "      <td>216 Bucholz Ct, Ann Arbor, MI 48103</td>\n",
       "      <td>3</td>\n",
       "      <td>3</td>\n",
       "      <td>48103</td>\n",
       "    </tr>\n",
       "    <tr>\n",
       "      <th>1258</th>\n",
       "      <td>290.000</td>\n",
       "      <td>$1,000/mo.</td>\n",
       "      <td>1.769</td>\n",
       "      <td>314 Hilldale Dr, Ann Arbor, MI 48105</td>\n",
       "      <td>3</td>\n",
       "      <td>3</td>\n",
       "      <td>48105</td>\n",
       "    </tr>\n",
       "    <tr>\n",
       "      <th>1259</th>\n",
       "      <td>587.690</td>\n",
       "      <td>$2,050/mo.</td>\n",
       "      <td>3.106</td>\n",
       "      <td>3655 Bella Vista Dr, Ann Arbor, MI 48105</td>\n",
       "      <td>5</td>\n",
       "      <td>5</td>\n",
       "      <td>48105</td>\n",
       "    </tr>\n",
       "    <tr>\n",
       "      <th>1260</th>\n",
       "      <td>509.140</td>\n",
       "      <td>$1,750/mo.</td>\n",
       "      <td>2.605</td>\n",
       "      <td>3765 Bella Vista Dr, Ann Arbor, MI 48105</td>\n",
       "      <td>4</td>\n",
       "      <td>4</td>\n",
       "      <td>48105</td>\n",
       "    </tr>\n",
       "    <tr>\n",
       "      <th>1261</th>\n",
       "      <td>400.000</td>\n",
       "      <td>$1,400/mo.</td>\n",
       "      <td>1.802</td>\n",
       "      <td>682 Trego Cir, Ann Arbor, MI 48103</td>\n",
       "      <td>3</td>\n",
       "      <td>3</td>\n",
       "      <td>48103</td>\n",
       "    </tr>\n",
       "    <tr>\n",
       "      <th>1262</th>\n",
       "      <td>299.000</td>\n",
       "      <td>$1,050/mo.</td>\n",
       "      <td>988</td>\n",
       "      <td>1460 Rosewood St, Ann Arbor, MI 48104</td>\n",
       "      <td>3</td>\n",
       "      <td>3</td>\n",
       "      <td>48104</td>\n",
       "    </tr>\n",
       "    <tr>\n",
       "      <th>1263</th>\n",
       "      <td>242.000</td>\n",
       "      <td>$850/mo.</td>\n",
       "      <td>1.350</td>\n",
       "      <td>776 Greenhills Dr, Ann Arbor, MI 48105</td>\n",
       "      <td>2</td>\n",
       "      <td>2</td>\n",
       "      <td>48105</td>\n",
       "    </tr>\n",
       "    <tr>\n",
       "      <th>1264</th>\n",
       "      <td>475.000</td>\n",
       "      <td>$1,650/mo.</td>\n",
       "      <td>2.176</td>\n",
       "      <td>2601 Brockman Blvd, Ann Arbor, MI 48104</td>\n",
       "      <td>4</td>\n",
       "      <td>4</td>\n",
       "      <td>48104</td>\n",
       "    </tr>\n",
       "    <tr>\n",
       "      <th>1265</th>\n",
       "      <td>750.000</td>\n",
       "      <td>$2,600/mo.</td>\n",
       "      <td>3.072</td>\n",
       "      <td>3880 Penberton Dr, Ann Arbor, MI 48105</td>\n",
       "      <td>5</td>\n",
       "      <td>5</td>\n",
       "      <td>48105</td>\n",
       "    </tr>\n",
       "    <tr>\n",
       "      <th>1266</th>\n",
       "      <td>295.000</td>\n",
       "      <td>$1,050/mo.</td>\n",
       "      <td>700</td>\n",
       "      <td>921 E Huron St, Ann Arbor, MI 48104</td>\n",
       "      <td>1</td>\n",
       "      <td>1</td>\n",
       "      <td>48104</td>\n",
       "    </tr>\n",
       "    <tr>\n",
       "      <th>1267</th>\n",
       "      <td>229.900</td>\n",
       "      <td>$800/mo.</td>\n",
       "      <td>982</td>\n",
       "      <td>1795 Hideaway Lane Dr, Ann Arbor, MI 48105</td>\n",
       "      <td>2</td>\n",
       "      <td>2</td>\n",
       "      <td>48105</td>\n",
       "    </tr>\n",
       "    <tr>\n",
       "      <th>1268</th>\n",
       "      <td>249.000</td>\n",
       "      <td>$850/mo.</td>\n",
       "      <td>1.516</td>\n",
       "      <td>749 Skynob Dr, Ann Arbor, MI 48105</td>\n",
       "      <td>3</td>\n",
       "      <td>3</td>\n",
       "      <td>48105</td>\n",
       "    </tr>\n",
       "    <tr>\n",
       "      <th>1269</th>\n",
       "      <td>499.900</td>\n",
       "      <td>$1,750/mo.</td>\n",
       "      <td>1.874</td>\n",
       "      <td>2848 Ridington Dr, Ann Arbor, MI 48105</td>\n",
       "      <td>3</td>\n",
       "      <td>3</td>\n",
       "      <td>48105</td>\n",
       "    </tr>\n",
       "    <tr>\n",
       "      <th>1270</th>\n",
       "      <td>699.000</td>\n",
       "      <td>$2,450/mo.</td>\n",
       "      <td>2.248</td>\n",
       "      <td>1206 Harbrooke Ave, Ann Arbor, MI 48103</td>\n",
       "      <td>4</td>\n",
       "      <td>4</td>\n",
       "      <td>48103</td>\n",
       "    </tr>\n",
       "    <tr>\n",
       "      <th>1271</th>\n",
       "      <td>329.000</td>\n",
       "      <td>$1,150/mo.</td>\n",
       "      <td>1.878</td>\n",
       "      <td>3009 Turnberry Ln, Ann Arbor, MI 48108</td>\n",
       "      <td>3</td>\n",
       "      <td>3</td>\n",
       "      <td>48108</td>\n",
       "    </tr>\n",
       "    <tr>\n",
       "      <th>1272</th>\n",
       "      <td>485.000</td>\n",
       "      <td>$1,700/mo.</td>\n",
       "      <td>1.817</td>\n",
       "      <td>1575 Woodland Dr, Ann Arbor, MI 48103</td>\n",
       "      <td>4</td>\n",
       "      <td>4</td>\n",
       "      <td>48103</td>\n",
       "    </tr>\n",
       "    <tr>\n",
       "      <th>1273</th>\n",
       "      <td>168.000</td>\n",
       "      <td>$600/mo.</td>\n",
       "      <td>1.262</td>\n",
       "      <td>2152 Stone School Cir, Ann Arbor, MI 48108</td>\n",
       "      <td>3</td>\n",
       "      <td>3</td>\n",
       "      <td>48108</td>\n",
       "    </tr>\n",
       "    <tr>\n",
       "      <th>1274</th>\n",
       "      <td>369.990</td>\n",
       "      <td>$1,300/mo.</td>\n",
       "      <td>1.102</td>\n",
       "      <td>1547 Kirtland Dr, Ann Arbor, MI 48103</td>\n",
       "      <td>3</td>\n",
       "      <td>3</td>\n",
       "      <td>48103</td>\n",
       "    </tr>\n",
       "  </tbody>\n",
       "</table>\n",
       "<p>1275 rows × 7 columns</p>\n",
       "</div>"
      ],
      "text/plain": [
       "        price  Morgae_rate    size  \\\n",
       "0     625.000   $2,200/mo.  2.487    \n",
       "1     379.000   $1,300/mo.  1.750    \n",
       "2     269.900     $950/mo.  1.450    \n",
       "3     304.900   $1,050/mo.  1.768    \n",
       "4     395.000   $1,400/mo.  1.593    \n",
       "5     250.000     $850/mo.    984    \n",
       "6     338.500   $1,200/mo.  1.508    \n",
       "7     400.000   $1,400/mo.  1.515    \n",
       "8     290.000   $1,000/mo.  1.769    \n",
       "9     587.690   $2,050/mo.  3.106    \n",
       "10    509.140   $1,750/mo.  2.605    \n",
       "11    400.000   $1,400/mo.  1.802    \n",
       "12    299.000   $1,050/mo.    988    \n",
       "13    242.000     $850/mo.  1.350    \n",
       "14    475.000   $1,650/mo.  2.176    \n",
       "15    750.000   $2,600/mo.  3.072    \n",
       "16    295.000   $1,050/mo.    700    \n",
       "17    229.900     $800/mo.    982    \n",
       "18    249.000     $850/mo.  1.516    \n",
       "19    499.900   $1,750/mo.  1.874    \n",
       "20    699.000   $2,450/mo.  2.248    \n",
       "21    329.000   $1,150/mo.  1.878    \n",
       "22    485.000   $1,700/mo.  1.817    \n",
       "23    168.000     $600/mo.  1.262    \n",
       "24    369.990   $1,300/mo.  1.102    \n",
       "25    625.000   $2,200/mo.  2.487    \n",
       "26    379.000   $1,300/mo.  1.750    \n",
       "27    269.900     $950/mo.  1.450    \n",
       "28    304.900   $1,050/mo.  1.768    \n",
       "29    395.000   $1,400/mo.  1.593    \n",
       "...       ...          ...     ...   \n",
       "1245  699.000   $2,450/mo.  2.248    \n",
       "1246  329.000   $1,150/mo.  1.878    \n",
       "1247  485.000   $1,700/mo.  1.817    \n",
       "1248  168.000     $600/mo.  1.262    \n",
       "1249  369.990   $1,300/mo.  1.102    \n",
       "1250  625.000   $2,200/mo.  2.487    \n",
       "1251  379.000   $1,300/mo.  1.750    \n",
       "1252  269.900     $950/mo.  1.450    \n",
       "1253  304.900   $1,050/mo.  1.768    \n",
       "1254  395.000   $1,400/mo.  1.593    \n",
       "1255  250.000     $850/mo.    984    \n",
       "1256  338.500   $1,200/mo.  1.508    \n",
       "1257  400.000   $1,400/mo.  1.515    \n",
       "1258  290.000   $1,000/mo.  1.769    \n",
       "1259  587.690   $2,050/mo.  3.106    \n",
       "1260  509.140   $1,750/mo.  2.605    \n",
       "1261  400.000   $1,400/mo.  1.802    \n",
       "1262  299.000   $1,050/mo.    988    \n",
       "1263  242.000     $850/mo.  1.350    \n",
       "1264  475.000   $1,650/mo.  2.176    \n",
       "1265  750.000   $2,600/mo.  3.072    \n",
       "1266  295.000   $1,050/mo.    700    \n",
       "1267  229.900     $800/mo.    982    \n",
       "1268  249.000     $850/mo.  1.516    \n",
       "1269  499.900   $1,750/mo.  1.874    \n",
       "1270  699.000   $2,450/mo.  2.248    \n",
       "1271  329.000   $1,150/mo.  1.878    \n",
       "1272  485.000   $1,700/mo.  1.817    \n",
       "1273  168.000     $600/mo.  1.262    \n",
       "1274  369.990   $1,300/mo.  1.102    \n",
       "\n",
       "                                        addresss  bed bath zip_code  \n",
       "0          825 Watershed Dr, Ann Arbor, MI 48105  3    3      48105  \n",
       "1          1827 Pontiac Trl, Ann Arbor, MI 48105  3    3      48105  \n",
       "2     532 Liberty Pointe Dr, Ann Arbor, MI 48103  3    3      48103  \n",
       "3         210 W Oakbrook Dr, Ann Arbor, MI 48103  3    3      48103  \n",
       "4            2506 W Liberty, Ann Arbor, MI 48103  2    2      48103  \n",
       "5              16 Revere Ct, Ann Arbor, MI 48104  3    3      48104  \n",
       "6             2541 Meade Ct, Ann Arbor, MI 48105  3    3      48105  \n",
       "7            216 Bucholz Ct, Ann Arbor, MI 48103  3    3      48103  \n",
       "8           314 Hilldale Dr, Ann Arbor, MI 48105  3    3      48105  \n",
       "9       3655 Bella Vista Dr, Ann Arbor, MI 48105  5    5      48105  \n",
       "10      3765 Bella Vista Dr, Ann Arbor, MI 48105  4    4      48105  \n",
       "11            682 Trego Cir, Ann Arbor, MI 48103  3    3      48103  \n",
       "12         1460 Rosewood St, Ann Arbor, MI 48104  3    3      48104  \n",
       "13        776 Greenhills Dr, Ann Arbor, MI 48105  2    2      48105  \n",
       "14       2601 Brockman Blvd, Ann Arbor, MI 48104  4    4      48104  \n",
       "15        3880 Penberton Dr, Ann Arbor, MI 48105  5    5      48105  \n",
       "16           921 E Huron St, Ann Arbor, MI 48104  1    1      48104  \n",
       "17    1795 Hideaway Lane Dr, Ann Arbor, MI 48105  2    2      48105  \n",
       "18            749 Skynob Dr, Ann Arbor, MI 48105  3    3      48105  \n",
       "19        2848 Ridington Dr, Ann Arbor, MI 48105  3    3      48105  \n",
       "20       1206 Harbrooke Ave, Ann Arbor, MI 48103  4    4      48103  \n",
       "21        3009 Turnberry Ln, Ann Arbor, MI 48108  3    3      48108  \n",
       "22         1575 Woodland Dr, Ann Arbor, MI 48103  4    4      48103  \n",
       "23    2152 Stone School Cir, Ann Arbor, MI 48108  3    3      48108  \n",
       "24         1547 Kirtland Dr, Ann Arbor, MI 48103  3    3      48103  \n",
       "25         825 Watershed Dr, Ann Arbor, MI 48105  3    3      48105  \n",
       "26         1827 Pontiac Trl, Ann Arbor, MI 48105  3    3      48105  \n",
       "27    532 Liberty Pointe Dr, Ann Arbor, MI 48103  3    3      48103  \n",
       "28        210 W Oakbrook Dr, Ann Arbor, MI 48103  3    3      48103  \n",
       "29           2506 W Liberty, Ann Arbor, MI 48103  2    2      48103  \n",
       "...                                          ...  ...  ...      ...  \n",
       "1245     1206 Harbrooke Ave, Ann Arbor, MI 48103  4    4      48103  \n",
       "1246      3009 Turnberry Ln, Ann Arbor, MI 48108  3    3      48108  \n",
       "1247       1575 Woodland Dr, Ann Arbor, MI 48103  4    4      48103  \n",
       "1248  2152 Stone School Cir, Ann Arbor, MI 48108  3    3      48108  \n",
       "1249       1547 Kirtland Dr, Ann Arbor, MI 48103  3    3      48103  \n",
       "1250       825 Watershed Dr, Ann Arbor, MI 48105  3    3      48105  \n",
       "1251       1827 Pontiac Trl, Ann Arbor, MI 48105  3    3      48105  \n",
       "1252  532 Liberty Pointe Dr, Ann Arbor, MI 48103  3    3      48103  \n",
       "1253      210 W Oakbrook Dr, Ann Arbor, MI 48103  3    3      48103  \n",
       "1254         2506 W Liberty, Ann Arbor, MI 48103  2    2      48103  \n",
       "1255           16 Revere Ct, Ann Arbor, MI 48104  3    3      48104  \n",
       "1256          2541 Meade Ct, Ann Arbor, MI 48105  3    3      48105  \n",
       "1257         216 Bucholz Ct, Ann Arbor, MI 48103  3    3      48103  \n",
       "1258        314 Hilldale Dr, Ann Arbor, MI 48105  3    3      48105  \n",
       "1259    3655 Bella Vista Dr, Ann Arbor, MI 48105  5    5      48105  \n",
       "1260    3765 Bella Vista Dr, Ann Arbor, MI 48105  4    4      48105  \n",
       "1261          682 Trego Cir, Ann Arbor, MI 48103  3    3      48103  \n",
       "1262       1460 Rosewood St, Ann Arbor, MI 48104  3    3      48104  \n",
       "1263      776 Greenhills Dr, Ann Arbor, MI 48105  2    2      48105  \n",
       "1264     2601 Brockman Blvd, Ann Arbor, MI 48104  4    4      48104  \n",
       "1265      3880 Penberton Dr, Ann Arbor, MI 48105  5    5      48105  \n",
       "1266         921 E Huron St, Ann Arbor, MI 48104  1    1      48104  \n",
       "1267  1795 Hideaway Lane Dr, Ann Arbor, MI 48105  2    2      48105  \n",
       "1268          749 Skynob Dr, Ann Arbor, MI 48105  3    3      48105  \n",
       "1269      2848 Ridington Dr, Ann Arbor, MI 48105  3    3      48105  \n",
       "1270     1206 Harbrooke Ave, Ann Arbor, MI 48103  4    4      48103  \n",
       "1271      3009 Turnberry Ln, Ann Arbor, MI 48108  3    3      48108  \n",
       "1272       1575 Woodland Dr, Ann Arbor, MI 48103  4    4      48103  \n",
       "1273  2152 Stone School Cir, Ann Arbor, MI 48108  3    3      48108  \n",
       "1274       1547 Kirtland Dr, Ann Arbor, MI 48103  3    3      48103  \n",
       "\n",
       "[1275 rows x 7 columns]"
      ]
     },
     "execution_count": 3,
     "metadata": {},
     "output_type": "execute_result"
    }
   ],
   "source": [
    "#to pass \n",
    "bedbeth = []\n",
    "#empty list for bed \n",
    "\n",
    "#function for spliting bed&bath and removing bath and bed words and aslo ponctuations\n",
    "def splitingg_bed_bath(badbeth):\n",
    "    link14 = []\n",
    "#empty list forr bath\n",
    "    link15 = []\n",
    "    link16 = []\n",
    "    length = len(link10)\n",
    "    for i in range(length):\n",
    "      link9[i] = link9[i].replace('$', '').replace(',','.')\n",
    "      link10[i] = link10[i].replace(\"~\", \"\").replace('*', '')\n",
    "      link11[i] = link11[i].replace('SqFt', '').replace(',','.')\n",
    "      link14.append(badbeth[i].split('•')[0])\n",
    "      link14[i] = link14[i].replace('Beds', '').replace('Bed','') \n",
    "      link15.append(badbeth[i].split('•')[1])\n",
    "      link15[i] = link14[i].replace('Baths', '').replace('Bath','')\n",
    "      link16.append(link12[i].split(',')[2]) \n",
    "      link16[i] = link16[i].replace('MI', '').replace(' ','')  \n",
    "    return link9,link10,link14,link15,link16    \n",
    "\n",
    " \n",
    "#calling function\n",
    "link9,link10,link14,link15,link16=splitingg_bed_bath(link13)\n",
    "\n",
    "#for i in range(length):\n",
    "# link16.append(link12[i].split(',')[2])     \n",
    "        \n",
    "\n",
    "    \n",
    "df40 = pd.DataFrame(list(zip(link9, link10 , link11, link12 ,link14 , link15 , link16)), \n",
    "               columns =['price', 'Morgae_rate','size','addresss','bed','bath','zip_code'])  \n",
    " \n",
    "\n",
    "df40"
   ]
  },
  {
   "cell_type": "code",
   "execution_count": null,
   "metadata": {},
   "outputs": [],
   "source": []
  },
  {
   "cell_type": "code",
   "execution_count": null,
   "metadata": {},
   "outputs": [],
   "source": []
  },
  {
   "cell_type": "markdown",
   "metadata": {},
   "source": [
    "Changing data type from object to int and float"
   ]
  },
  {
   "cell_type": "code",
   "execution_count": 32,
   "metadata": {},
   "outputs": [],
   "source": [
    "import numpy as np\n",
    "\n",
    "df40[\"price\"] = df40[\"price\"].astype(int)\n",
    "df40[\"bed\"] = df40[\"bed\"].astype(int)\n",
    "df40[\"bath\"] = df40[\"bath\"].astype(int)\n",
    "df40[\"zip_code\"] = df40[\"zip_code\"].astype(int)\n",
    "df40[\"size\"] = df40[\"size\"].astype(int)\n"
   ]
  },
  {
   "cell_type": "code",
   "execution_count": 33,
   "metadata": {
    "scrolled": true
   },
   "outputs": [
    {
     "data": {
      "text/plain": [
       "count    1275.000000\n",
       "mean      393.360000\n",
       "std       148.957017\n",
       "min       168.000000\n",
       "25%       290.000000\n",
       "50%       369.000000\n",
       "75%       485.000000\n",
       "max       750.000000\n",
       "Name: price, dtype: float64"
      ]
     },
     "execution_count": 33,
     "metadata": {},
     "output_type": "execute_result"
    }
   ],
   "source": [
    "df40[\"price\"].describe()"
   ]
  },
  {
   "cell_type": "markdown",
   "metadata": {},
   "source": [
    "Data visulizatoion"
   ]
  },
  {
   "cell_type": "code",
   "execution_count": 34,
   "metadata": {
    "scrolled": true
   },
   "outputs": [
    {
     "data": {
      "image/png": "[encoded data removed]",
      "text/plain": [
       "<Figure size 432x288 with 1 Axes>"
      ]
     },
     "metadata": {
      "needs_background": "light"
     },
     "output_type": "display_data"
    }
   ],
   "source": [
    "df40[\"price\"].hist(bins=21,linewidth=1)\n",
    "plt.xlabel(\"Price $1,000\")\n",
    "plt.ylabel(\"Number of House\")\n",
    "plt.title(\"Distribution of House price in Ann Arbor\")\n",
    " \n",
    "plt.show()"
   ]
  },
  {
   "cell_type": "markdown",
   "metadata": {},
   "source": [
    "see normallization without noise"
   ]
  },
  {
   "cell_type": "code",
   "execution_count": null,
   "metadata": {},
   "outputs": [],
   "source": []
  },
  {
   "cell_type": "code",
   "execution_count": 35,
   "metadata": {
    "scrolled": true
   },
   "outputs": [
    {
     "data": {
      "text/plain": [
       "<matplotlib.axes._subplots.AxesSubplot at 0x24bfbdacf28>"
      ]
     },
     "execution_count": 35,
     "metadata": {},
     "output_type": "execute_result"
    },
    {
     "data": {
      "image/png": "[encoded data removed]",
      "text/plain": [
       "<Figure size 432x288 with 1 Axes>"
      ]
     },
     "metadata": {
      "needs_background": "light"
     },
     "output_type": "display_data"
    }
   ],
   "source": [
    "sns.distplot(df40[\"price\"])"
   ]
  },
  {
   "cell_type": "markdown",
   "metadata": {},
   "source": [
    "data visulization for correlation"
   ]
  },
  {
   "cell_type": "code",
   "execution_count": 36,
   "metadata": {},
   "outputs": [
    {
     "data": {
      "text/html": [
       "<div>\n",
       "<style scoped>\n",
       "    .dataframe tbody tr th:only-of-type {\n",
       "        vertical-align: middle;\n",
       "    }\n",
       "\n",
       "    .dataframe tbody tr th {\n",
       "        vertical-align: top;\n",
       "    }\n",
       "\n",
       "    .dataframe thead th {\n",
       "        text-align: right;\n",
       "    }\n",
       "</style>\n",
       "<table border=\"1\" class=\"dataframe\">\n",
       "  <thead>\n",
       "    <tr style=\"text-align: right;\">\n",
       "      <th></th>\n",
       "      <th>price</th>\n",
       "      <th>size</th>\n",
       "      <th>bed</th>\n",
       "      <th>bath</th>\n",
       "      <th>zip_code</th>\n",
       "    </tr>\n",
       "  </thead>\n",
       "  <tbody>\n",
       "    <tr>\n",
       "      <th>price</th>\n",
       "      <td>1.000000</td>\n",
       "      <td>-0.367356</td>\n",
       "      <td>0.686288</td>\n",
       "      <td>0.686288</td>\n",
       "      <td>-0.190377</td>\n",
       "    </tr>\n",
       "    <tr>\n",
       "      <th>size</th>\n",
       "      <td>-0.367356</td>\n",
       "      <td>1.000000</td>\n",
       "      <td>-0.384698</td>\n",
       "      <td>-0.384698</td>\n",
       "      <td>-0.054303</td>\n",
       "    </tr>\n",
       "    <tr>\n",
       "      <th>bed</th>\n",
       "      <td>0.686288</td>\n",
       "      <td>-0.384698</td>\n",
       "      <td>1.000000</td>\n",
       "      <td>1.000000</td>\n",
       "      <td>0.023182</td>\n",
       "    </tr>\n",
       "    <tr>\n",
       "      <th>bath</th>\n",
       "      <td>0.686288</td>\n",
       "      <td>-0.384698</td>\n",
       "      <td>1.000000</td>\n",
       "      <td>1.000000</td>\n",
       "      <td>0.023182</td>\n",
       "    </tr>\n",
       "    <tr>\n",
       "      <th>zip_code</th>\n",
       "      <td>-0.190377</td>\n",
       "      <td>-0.054303</td>\n",
       "      <td>0.023182</td>\n",
       "      <td>0.023182</td>\n",
       "      <td>1.000000</td>\n",
       "    </tr>\n",
       "  </tbody>\n",
       "</table>\n",
       "</div>"
      ],
      "text/plain": [
       "             price      size       bed      bath  zip_code\n",
       "price     1.000000 -0.367356  0.686288  0.686288 -0.190377\n",
       "size     -0.367356  1.000000 -0.384698 -0.384698 -0.054303\n",
       "bed       0.686288 -0.384698  1.000000  1.000000  0.023182\n",
       "bath      0.686288 -0.384698  1.000000  1.000000  0.023182\n",
       "zip_code -0.190377 -0.054303  0.023182  0.023182  1.000000"
      ]
     },
     "execution_count": 36,
     "metadata": {},
     "output_type": "execute_result"
    },
    {
     "data": {
      "image/png": "[encoded data removed]",
      "text/plain": [
       "<Figure size 864x648 with 2 Axes>"
      ]
     },
     "metadata": {
      "needs_background": "light"
     },
     "output_type": "display_data"
    }
   ],
   "source": [
    "from scipy.stats.stats import pearsonr\n",
    "from matplotlib import pyplot as plt\n",
    "corrmat = df40.corr(method='pearson')\n",
    "f, ax = plt.subplots(figsize=(12, 9))\n",
    "sns.heatmap(corrmat, vmax=.8, square=True)\n",
    "corrmat"
   ]
  },
  {
   "cell_type": "markdown",
   "metadata": {},
   "source": [
    "logorithm historam"
   ]
  },
  {
   "cell_type": "code",
   "execution_count": 37,
   "metadata": {},
   "outputs": [],
   "source": [
    "from scipy import stats\n"
   ]
  },
  {
   "cell_type": "code",
   "execution_count": 38,
   "metadata": {},
   "outputs": [
    {
     "name": "stdout",
     "output_type": "stream",
     "text": [
      "mu = 393.36 and sigma = 148.90\n"
     ]
    },
    {
     "data": {
      "image/png": "[encoded data removed]",
      "text/plain": [
       "<Figure size 432x288 with 1 Axes>"
      ]
     },
     "metadata": {
      "needs_background": "light"
     },
     "output_type": "display_data"
    },
    {
     "data": {
      "image/png": "[encoded data removed]",
      "text/plain": [
       "<Figure size 432x288 with 1 Axes>"
      ]
     },
     "metadata": {
      "needs_background": "light"
     },
     "output_type": "display_data"
    },
    {
     "name": "stdout",
     "output_type": "stream",
     "text": [
      "transformed mu = 5.91 and transformed sigma = 0.37\n"
     ]
    },
    {
     "data": {
      "image/png": "[encoded data removed]",
      "text/plain": [
       "<Figure size 432x288 with 1 Axes>"
      ]
     },
     "metadata": {
      "needs_background": "light"
     },
     "output_type": "display_data"
    },
    {
     "data": {
      "image/png": "[encoded data removed]",
      "text/plain": [
       "<Figure size 432x288 with 1 Axes>"
      ]
     },
     "metadata": {
      "needs_background": "light"
     },
     "output_type": "display_data"
    }
   ],
   "source": [
    "sns.distplot(df40['price'], fit=stats.norm)\n",
    "\n",
    "(mu, sigma) = stats.norm.fit(df40['price'])\n",
    "print('mu = {:,.2f} and sigma = {:,.2f}'.format(mu, sigma))\n",
    "# Q-Q plot:\n",
    "fig = plt.figure()\n",
    "res = stats.probplot(df40['price'], plot=plt)\n",
    "plt.show()\n",
    "\n",
    "# Apply Log transform to SalePrice (y in training data)\n",
    "y = np.log(y)\n",
    "# Distribution Plot\n",
    "sns.distplot(y, fit=stats.norm)\n",
    "(mu, sigma) = stats.norm.fit(y)\n",
    "print('transformed mu = {:,.2f} and transformed sigma = {:,.2f}'.format(mu, sigma))\n",
    "# QQ Plot\n",
    "fig = plt.figure()\n",
    "res = stats.probplot(y, plot=plt)\n",
    "plt.show()\n",
    "\n"
   ]
  },
  {
   "cell_type": "markdown",
   "metadata": {},
   "source": [
    "Prediction using XGBRegressor"
   ]
  },
  {
   "cell_type": "code",
   "execution_count": 39,
   "metadata": {
    "scrolled": true
   },
   "outputs": [],
   "source": [
    "from sklearn.model_selection import train_test_split\n",
    "from sklearn.preprocessing import Imputer\n",
    "from sklearn.metrics import mean_absolute_error\n",
    "from xgboost import XGBRegressor\n",
    "#df41=df40.drop(columns=['Morgae_rate', 'addresss'])\n",
    "#df41.set_index('price', inplace=True)\n",
    "#df41"
   ]
  },
  {
   "cell_type": "code",
   "execution_count": 40,
   "metadata": {},
   "outputs": [
    {
     "name": "stderr",
     "output_type": "stream",
     "text": [
      "C:\\Users\\Dell\\Anaconda3\\lib\\site-packages\\ipykernel_launcher.py:4: FutureWarning: Method .as_matrix will be removed in a future version. Use .values instead.\n",
      "  after removing the cwd from sys.path.\n",
      "C:\\Users\\Dell\\Anaconda3\\lib\\site-packages\\sklearn\\utils\\deprecation.py:58: DeprecationWarning: Class Imputer is deprecated; Imputer was deprecated in version 0.20 and will be removed in 0.22. Import impute.SimpleImputer from sklearn instead.\n",
      "  warnings.warn(msg, category=DeprecationWarning)\n"
     ]
    }
   ],
   "source": [
    "df40.dropna(axis=0, subset=['price'], inplace=True)\n",
    "y = df40.price\n",
    "X = df40.drop(['price'], axis=1).select_dtypes(exclude=['object'])\n",
    "train_X, test_X, train_y, test_y = train_test_split(X.as_matrix(), y.as_matrix(), test_size=0.25)\n",
    "\n",
    "my_imputer = Imputer()\n",
    "train_X = my_imputer.fit_transform(train_X)\n",
    "test_X = my_imputer.transform(test_X)"
   ]
  },
  {
   "cell_type": "code",
   "execution_count": 41,
   "metadata": {},
   "outputs": [
    {
     "data": {
      "text/plain": [
       "XGBRegressor(base_score=0.5, booster=None, colsample_bylevel=1,\n",
       "       colsample_bynode=1, colsample_bytree=1, gamma=0, gpu_id=-1,\n",
       "       importance_type='gain', interaction_constraints=None,\n",
       "       learning_rate=0.300000012, max_delta_step=0, max_depth=6,\n",
       "       min_child_weight=1, missing=nan, monotone_constraints=None,\n",
       "       n_estimators=100, n_jobs=0, num_parallel_tree=1,\n",
       "       objective='reg:squarederror', random_state=0, reg_alpha=0,\n",
       "       reg_lambda=1, scale_pos_weight=1, subsample=1, tree_method=None,\n",
       "       validate_parameters=False, verbosity=None)"
      ]
     },
     "execution_count": 41,
     "metadata": {},
     "output_type": "execute_result"
    }
   ],
   "source": [
    "from xgboost import XGBRegressor\n",
    "\n",
    "my_model = XGBRegressor()\n",
    "# Add silent=True to avoid printing out updates with each cycle\n",
    "my_model.fit(train_X, train_y, verbose=False)"
   ]
  },
  {
   "cell_type": "code",
   "execution_count": 42,
   "metadata": {},
   "outputs": [
    {
     "name": "stdout",
     "output_type": "stream",
     "text": [
      "Mean Absolute Error : 35.53874244809524\n"
     ]
    }
   ],
   "source": [
    "predictions = my_model.predict(test_X)\n",
    "\n",
    "from sklearn.metrics import mean_absolute_error\n",
    "print(\"Mean Absolute Error : \" + str(mean_absolute_error(predictions, test_y)))"
   ]
  },
  {
   "cell_type": "code",
   "execution_count": 43,
   "metadata": {},
   "outputs": [
    {
     "data": {
      "text/plain": [
       "0.8642162472326753"
      ]
     },
     "execution_count": 43,
     "metadata": {},
     "output_type": "execute_result"
    }
   ],
   "source": [
    "my_model.score(test_X,test_y)"
   ]
  },
  {
   "cell_type": "code",
   "execution_count": 44,
   "metadata": {},
   "outputs": [],
   "source": [
    "from sklearn.metrics import mean_squared_error\n",
    "rmse = np.sqrt(mean_squared_error(test_y, predictions))"
   ]
  },
  {
   "cell_type": "code",
   "execution_count": 45,
   "metadata": {
    "scrolled": true
   },
   "outputs": [
    {
     "name": "stdout",
     "output_type": "stream",
     "text": [
      "RMSE: 53.935365\n"
     ]
    }
   ],
   "source": [
    "print(\"RMSE: %f\" % (rmse))"
   ]
  },
  {
   "cell_type": "code",
   "execution_count": null,
   "metadata": {},
   "outputs": [],
   "source": [
    "Prediction using LogisticRegression"
   ]
  },
  {
   "cell_type": "code",
   "execution_count": 46,
   "metadata": {},
   "outputs": [
    {
     "name": "stderr",
     "output_type": "stream",
     "text": [
      "C:\\Users\\Dell\\Anaconda3\\lib\\site-packages\\sklearn\\linear_model\\logistic.py:433: FutureWarning: Default solver will be changed to 'lbfgs' in 0.22. Specify a solver to silence this warning.\n",
      "  FutureWarning)\n",
      "C:\\Users\\Dell\\Anaconda3\\lib\\site-packages\\sklearn\\linear_model\\logistic.py:460: FutureWarning: Default multi_class will be changed to 'auto' in 0.22. Specify the multi_class option to silence this warning.\n",
      "  \"this warning.\", FutureWarning)\n"
     ]
    }
   ],
   "source": [
    "from sklearn.linear_model import LogisticRegression\n",
    "\n",
    "# instantiate the model (using the default parameters)\n",
    "logreg = LogisticRegression()\n",
    "\n",
    "# fit the model with data\n",
    "logreg.fit(train_X, train_y)\n",
    "\n",
    "#\n",
    "y_pred=logreg.predict(test_X)"
   ]
  },
  {
   "cell_type": "code",
   "execution_count": 48,
   "metadata": {},
   "outputs": [
    {
     "data": {
      "text/plain": [
       "array([[ 0,  0,  0,  0,  0,  0,  0,  0,  0,  0,  0,  0,  0,  0,  0, 15,\n",
       "         0,  0,  0,  0,  0,  0,  0,  0],\n",
       "       [ 0, 11,  0,  0,  0,  0,  0,  0,  0,  0,  0,  0,  0,  0,  0,  0,\n",
       "         0,  0,  0,  0,  0,  0,  0,  0],\n",
       "       [ 0,  0,  0,  0,  0,  0,  0,  0,  0,  0,  0,  0,  0,  0,  0, 14,\n",
       "         0,  0,  0,  0,  0,  0,  0,  0],\n",
       "       [ 0,  0,  0,  0,  0,  0,  0,  0,  0,  0,  0,  0,  0,  0,  0, 14,\n",
       "         0,  0,  0,  0,  0,  0,  0,  0],\n",
       "       [ 0, 14,  0,  0,  0,  0,  0,  0,  0,  0,  0,  0,  0,  0,  0,  0,\n",
       "         0,  0,  0,  0,  0,  0,  0,  0],\n",
       "       [ 0,  0,  0,  0,  0,  0,  0,  0,  0,  0,  0,  0,  0,  0,  0,  9,\n",
       "         0,  0,  0,  0,  0,  0,  0,  0],\n",
       "       [ 0,  0,  0,  0,  0,  0,  0,  0,  0,  0,  0,  0,  0,  0,  0, 10,\n",
       "         0,  0,  0,  0,  0,  0,  0,  0],\n",
       "       [ 0,  0,  0,  0,  0,  0,  0, 10,  0,  0,  0,  0,  0,  0,  0,  0,\n",
       "         0,  0,  0,  0,  0,  0,  0,  0],\n",
       "       [ 0,  0,  0,  0,  0,  0,  0,  0, 20,  0,  0,  0,  0,  0,  0,  0,\n",
       "         0,  0,  0,  0,  0,  0,  0,  0],\n",
       "       [ 0,  0,  0,  0,  0,  0,  0,  0,  0,  0,  0,  0,  0,  0,  0, 17,\n",
       "         0,  0,  0,  0,  0,  0,  0,  0],\n",
       "       [ 0,  0,  0,  0,  0,  0,  0,  0,  0,  0,  0,  0,  0,  0,  0, 13,\n",
       "         0,  0,  0,  0,  0,  0,  0,  0],\n",
       "       [ 0,  0,  0,  0,  0,  0,  0,  0,  0,  0,  0,  0,  0,  0,  0, 10,\n",
       "         0,  0,  0,  0,  0,  0,  0,  0],\n",
       "       [ 0,  0,  0,  0,  0,  0,  0,  0,  0,  0,  0,  0,  0,  0,  0,  8,\n",
       "         0,  0,  0,  0,  0,  0,  0,  0],\n",
       "       [ 0,  0,  0,  0,  0,  0,  0,  0,  0,  0,  0,  0,  0,  0,  0, 11,\n",
       "         0,  0,  0,  0,  0,  0,  0,  0],\n",
       "       [ 0,  0,  0,  0,  0,  0,  0,  0,  0,  0,  0,  0,  0,  0,  0, 15,\n",
       "         0,  0,  0,  0,  0,  0,  0,  0],\n",
       "       [ 0,  0,  0,  0,  0,  0,  0,  0,  0,  0,  0,  0,  0,  0,  0, 30,\n",
       "         0,  0,  0,  0,  0,  0,  0,  0],\n",
       "       [ 0,  0,  0,  0,  0,  0,  0,  0,  0,  0,  0,  0,  0,  0,  0, 14,\n",
       "         0,  0,  0,  0,  0,  0,  0,  0],\n",
       "       [ 0,  0,  0,  0,  0,  0,  0,  0,  0,  0,  0,  0,  0,  0,  0, 14,\n",
       "         0,  0,  0,  0,  0,  0,  0,  0],\n",
       "       [ 0,  0,  0,  0,  0,  0,  0,  0,  0,  0,  0,  0,  0,  0,  0, 10,\n",
       "         0,  0,  0,  0,  0,  0,  0,  0],\n",
       "       [ 0,  0,  0,  0,  0,  0,  0,  0,  0,  0,  0,  0,  0,  0,  0,  8,\n",
       "         0,  0,  0,  0,  0,  0,  0,  0],\n",
       "       [ 0,  0,  0,  0,  0,  0,  0,  0,  0,  0,  0,  0,  0,  0,  0,  0,\n",
       "         0,  0,  0,  0, 14,  0,  0,  0],\n",
       "       [ 0,  0,  0,  0,  0,  0,  0,  0,  0,  0,  0,  0,  0,  0,  0, 17,\n",
       "         0,  0,  0,  0,  0,  0,  0,  0],\n",
       "       [ 0,  0,  0,  0,  0,  0,  0,  0,  0,  0,  0,  0,  0,  0,  0, 12,\n",
       "         0,  0,  0,  0,  0,  0,  0,  0],\n",
       "       [ 0,  0,  0,  0,  0,  0,  0,  0,  0,  0,  0,  0,  0,  0,  0,  0,\n",
       "         0,  0,  0,  0,  9,  0,  0,  0]], dtype=int64)"
      ]
     },
     "execution_count": 48,
     "metadata": {},
     "output_type": "execute_result"
    }
   ],
   "source": [
    "from sklearn import metrics\n",
    "cnf_matrix = metrics.confusion_matrix(test_y, y_pred)\n",
    "cnf_matrix"
   ]
  },
  {
   "cell_type": "code",
   "execution_count": 49,
   "metadata": {},
   "outputs": [
    {
     "data": {
      "text/plain": [
       "Text(0.5, 257.44, 'Predicted label')"
      ]
     },
     "execution_count": 49,
     "metadata": {},
     "output_type": "execute_result"
    },
    {
     "data": {
      "image/png": "[encoded data removed]",
      "text/plain": [
       "<Figure size 432x288 with 2 Axes>"
      ]
     },
     "metadata": {
      "needs_background": "light"
     },
     "output_type": "display_data"
    }
   ],
   "source": [
    "class_names=[0,1] # name  of classes\n",
    "fig, ax = plt.subplots()\n",
    "tick_marks = np.arange(len(class_names))\n",
    "plt.xticks(tick_marks, class_names)\n",
    "plt.yticks(tick_marks, class_names)\n",
    "# create heatmap\n",
    "sns.heatmap(pd.DataFrame(cnf_matrix), annot=True, cmap=\"YlGnBu\" ,fmt='g')\n",
    "ax.xaxis.set_label_position(\"top\")\n",
    "plt.tight_layout()\n",
    "plt.title('Confusion matrix', y=1.1)\n",
    "plt.ylabel('Actual label')\n",
    "plt.xlabel('Predicted label')"
   ]
  },
  {
   "cell_type": "code",
   "execution_count": 51,
   "metadata": {},
   "outputs": [
    {
     "name": "stdout",
     "output_type": "stream",
     "text": [
      "Accuracy: 0.2664576802507837\n"
     ]
    }
   ],
   "source": [
    "print(\"Accuracy:\",metrics.accuracy_score(test_y, y_pred))\n"
   ]
  },
  {
   "cell_type": "code",
   "execution_count": null,
   "metadata": {},
   "outputs": [],
   "source": []
  }
 ],
 "metadata": {
  "kernelspec": {
   "display_name": "Python 3",
   "language": "python",
   "name": "python3"
  },
  "language_info": {
   "codemirror_mode": {
    "name": "ipython",
    "version": 3
   },
   "file_extension": ".py",
   "mimetype": "text/x-python",
   "name": "python",
   "nbconvert_exporter": "python",
   "pygments_lexer": "ipython3",
   "version": "3.7.3"
  }
 },
 "nbformat": 4,
 "nbformat_minor": 2
}
